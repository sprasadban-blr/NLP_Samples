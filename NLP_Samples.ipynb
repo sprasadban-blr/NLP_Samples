{
 "cells": [
  {
   "cell_type": "code",
   "execution_count": 1,
   "metadata": {},
   "outputs": [],
   "source": [
    "import os\n",
    "import nltk\n",
    "import nltk.corpus"
   ]
  },
  {
   "cell_type": "code",
   "execution_count": 5,
   "metadata": {},
   "outputs": [
    {
     "name": "stdout",
     "output_type": "stream",
     "text": [
      "['abc', 'abc.zip', 'alpino', 'alpino.zip', 'biocreative_ppi', 'biocreative_ppi.zip', 'brown', 'brown.zip', 'brown_tei', 'brown_tei.zip', 'cess_cat', 'cess_cat.zip', 'cess_esp', 'cess_esp.zip', 'chat80', 'chat80.zip', 'city_database', 'city_database.zip', 'cmudict', 'cmudict.zip', 'comparative_sentences', 'comparative_sentences.zip', 'comtrans.zip', 'conll2000', 'conll2000.zip', 'conll2002', 'conll2002.zip', 'conll2007.zip', 'crubadan', 'crubadan.zip', 'dependency_treebank', 'dependency_treebank.zip', 'dolch', 'dolch.zip', 'europarl_raw', 'europarl_raw.zip', 'floresta', 'floresta.zip', 'framenet_v15', 'framenet_v15.zip', 'framenet_v17', 'framenet_v17.zip', 'gazetteers', 'gazetteers.zip', 'genesis', 'genesis.zip', 'gutenberg', 'gutenberg.zip', 'ieer', 'ieer.zip', 'inaugural', 'inaugural.zip', 'indian', 'indian.zip', 'jeita.zip', 'kimmo', 'kimmo.zip', 'knbc.zip', 'lin_thesaurus', 'lin_thesaurus.zip', 'machado.zip', 'mac_morpho', 'mac_morpho.zip', 'masc_tagged.zip', 'movie_reviews', 'movie_reviews.zip', 'mte_teip5', 'mte_teip5.zip', 'names', 'names.zip', 'nombank.1.0.zip', 'nonbreaking_prefixes', 'nonbreaking_prefixes.zip', 'nps_chat', 'nps_chat.zip', 'omw', 'omw.zip', 'opinion_lexicon', 'opinion_lexicon.zip', 'panlex_swadesh.zip', 'paradigms', 'paradigms.zip', 'pil', 'pil.zip', 'pl196x', 'pl196x.zip', 'ppattach', 'ppattach.zip', 'problem_reports', 'problem_reports.zip', 'product_reviews_1', 'product_reviews_1.zip', 'product_reviews_2', 'product_reviews_2.zip', 'propbank.zip', 'pros_cons', 'pros_cons.zip', 'ptb', 'ptb.zip', 'qc', 'qc.zip', 'reuters.zip', 'rte', 'rte.zip', 'semcor.zip', 'senseval', 'senseval.zip', 'sentence_polarity', 'sentence_polarity.zip', 'sentiwordnet', 'sentiwordnet.zip', 'shakespeare', 'shakespeare.zip', 'sinica_treebank', 'sinica_treebank.zip', 'smultron', 'smultron.zip', 'state_union', 'state_union.zip', 'stopwords', 'stopwords.zip', 'subjectivity', 'subjectivity.zip', 'swadesh', 'swadesh.zip', 'switchboard', 'switchboard.zip', 'timit', 'timit.zip', 'toolbox', 'toolbox.zip', 'treebank', 'treebank.zip', 'twitter_samples', 'twitter_samples.zip', 'udhr', 'udhr.zip', 'udhr2', 'udhr2.zip', 'unicode_samples', 'unicode_samples.zip', 'universal_treebanks_v20.zip', 'verbnet', 'verbnet.zip', 'verbnet3', 'verbnet3.zip', 'webtext', 'webtext.zip', 'wordnet', 'wordnet.zip', 'wordnet_ic', 'wordnet_ic.zip', 'words', 'words.zip', 'ycoe', 'ycoe.zip']\n"
     ]
    }
   ],
   "source": [
    "print(os.listdir(nltk.data.find(\"corpora\")))"
   ]
  },
  {
   "cell_type": "code",
   "execution_count": 6,
   "metadata": {},
   "outputs": [
    {
     "name": "stdout",
     "output_type": "stream",
     "text": [
      "showing info https://raw.githubusercontent.com/nltk/nltk_data/gh-pages/index.xml\n"
     ]
    },
    {
     "data": {
      "text/plain": [
       "True"
      ]
     },
     "execution_count": 6,
     "metadata": {},
     "output_type": "execute_result"
    }
   ],
   "source": [
    "nltk.download()"
   ]
  },
  {
   "cell_type": "code",
   "execution_count": 7,
   "metadata": {},
   "outputs": [
    {
     "data": {
      "text/plain": [
       "['The', 'Fulton', 'County', 'Grand', 'Jury', 'said', ...]"
      ]
     },
     "execution_count": 7,
     "metadata": {},
     "output_type": "execute_result"
    }
   ],
   "source": [
    "from nltk.corpus import brown\n",
    "brown.words()"
   ]
  },
  {
   "cell_type": "code",
   "execution_count": 9,
   "metadata": {},
   "outputs": [
    {
     "data": {
      "text/plain": [
       "['austen-emma.txt',\n",
       " 'austen-persuasion.txt',\n",
       " 'austen-sense.txt',\n",
       " 'bible-kjv.txt',\n",
       " 'blake-poems.txt',\n",
       " 'bryant-stories.txt',\n",
       " 'burgess-busterbrown.txt',\n",
       " 'carroll-alice.txt',\n",
       " 'chesterton-ball.txt',\n",
       " 'chesterton-brown.txt',\n",
       " 'chesterton-thursday.txt',\n",
       " 'edgeworth-parents.txt',\n",
       " 'melville-moby_dick.txt',\n",
       " 'milton-paradise.txt',\n",
       " 'shakespeare-caesar.txt',\n",
       " 'shakespeare-hamlet.txt',\n",
       " 'shakespeare-macbeth.txt',\n",
       " 'whitman-leaves.txt']"
      ]
     },
     "execution_count": 9,
     "metadata": {},
     "output_type": "execute_result"
    }
   ],
   "source": [
    "nltk.corpus.gutenberg.fileids()"
   ]
  },
  {
   "cell_type": "code",
   "execution_count": 12,
   "metadata": {},
   "outputs": [
    {
     "data": {
      "text/plain": [
       "['[', 'The', 'Tragedie', 'of', 'Hamlet', 'by', ...]"
      ]
     },
     "execution_count": 12,
     "metadata": {},
     "output_type": "execute_result"
    }
   ],
   "source": [
    "hamlet = nltk.corpus.gutenberg.words('shakespeare-hamlet.txt')\n",
    "hamlet"
   ]
  },
  {
   "cell_type": "code",
   "execution_count": 13,
   "metadata": {},
   "outputs": [
    {
     "name": "stdout",
     "output_type": "stream",
     "text": [
      "[ The Tragedie of Hamlet by William Shakespeare 1599 ] Actus Primus . Scoena Prima . Enter Barnardo and Francisco two Centinels . Barnardo . Who ' s there ? Fran . Nay answer me : Stand & vnfold your selfe Bar . Long liue the King Fran . Barnardo ? Bar . He Fran . You come most carefully vpon your houre Bar . ' Tis now strook twelue , get thee to bed Francisco Fran . For this releefe much thankes : ' Tis bitter cold , And I am sicke at heart Barn . Haue you had quiet Guard ? Fran . Not a Mouse stirring Barn . Well , goodnight . If you do meet Horatio and Marcellus , the Riuals of my Watch , bid them make hast . Enter Horatio and Marcellus . Fran . I thinke I heare them . Stand : who ' s there ? Hor . Friends to this ground Mar . And Leige - men to the Dane Fran . Giue you good night Mar . O farwel honest Soldier , who hath relieu ' d you ? Fra . Barnardo ha ' s my place : giue you goodnight . Exit Fran . Mar . Holla Barnardo Bar . Say , what is Horatio there ? Hor . A peece of him Bar . Welcome Horatio , welcome good Marcellus Mar . What , ha ' s this thing appear ' d againe to night Bar . I haue seene nothing Mar . Horatio saies , ' tis but our Fantasie , And will not let beleefe take hold of him Touching this dreaded sight , twice seene of vs , Therefore I haue intreated him along With vs , to watch the minutes of this Night , That if againe this Apparition come , He may approue our eyes , and speake to it Hor . Tush , tush , ' twill not appeare Bar . Sit downe a - while , And let vs once againe assaile your eares , That are so fortified against our Story , What we two Nights haue seene Hor . Well , sit we downe , And let vs heare Barnardo speake of this Barn . Last night of all , When yond same Starre that ' s Westward from the Pole Had made his course t ' illume that part of Heauen Where now it burnes , Marcellus and my selfe , The Bell then beating one Mar . Peace , breake thee of : Enter the Ghost . Looke where it comes againe Barn . In the same figure , like the King that ' s dead Mar . Thou art a Scholler ; speake to it Horatio Barn . Lookes it not like the King ? Marke it Horatio Hora . Most like : It harrowes me with fear & wonder Barn . It would be spoke too Mar . Question it Horatio Hor . What art "
     ]
    }
   ],
   "source": [
    "for word in hamlet[:500]:\n",
    "    print(word, sep=' ', end=' ')"
   ]
  },
  {
   "cell_type": "code",
   "execution_count": 14,
   "metadata": {},
   "outputs": [
    {
     "data": {
      "text/plain": [
       "str"
      ]
     },
     "execution_count": 14,
     "metadata": {},
     "output_type": "execute_result"
    }
   ],
   "source": [
    "AI = 'According to the father of Artificial Intelligence, John McCarthy, it is “The science and engineering of making intelligent machines, especially intelligent computer programs”. Artificial Intelligence is a way of making a computer, a computer-controlled robot, or a software think intelligently, in the similar manner the intelligent humans think. AI is accomplished by studying how human brain thinks, and how humans learn, decide, and work while trying to solve a problem, and then using the outcomes of this study as a basis of developing intelligent software and systems.'\n",
    "type(AI)"
   ]
  },
  {
   "cell_type": "code",
   "execution_count": 15,
   "metadata": {},
   "outputs": [],
   "source": [
    "from nltk.tokenize import word_tokenize"
   ]
  },
  {
   "cell_type": "code",
   "execution_count": 16,
   "metadata": {},
   "outputs": [
    {
     "data": {
      "text/plain": [
       "['According',\n",
       " 'to',\n",
       " 'the',\n",
       " 'father',\n",
       " 'of',\n",
       " 'Artificial',\n",
       " 'Intelligence',\n",
       " ',',\n",
       " 'John',\n",
       " 'McCarthy',\n",
       " ',',\n",
       " 'it',\n",
       " 'is',\n",
       " '“',\n",
       " 'The',\n",
       " 'science',\n",
       " 'and',\n",
       " 'engineering',\n",
       " 'of',\n",
       " 'making',\n",
       " 'intelligent',\n",
       " 'machines',\n",
       " ',',\n",
       " 'especially',\n",
       " 'intelligent',\n",
       " 'computer',\n",
       " 'programs',\n",
       " '”',\n",
       " '.',\n",
       " 'Artificial',\n",
       " 'Intelligence',\n",
       " 'is',\n",
       " 'a',\n",
       " 'way',\n",
       " 'of',\n",
       " 'making',\n",
       " 'a',\n",
       " 'computer',\n",
       " ',',\n",
       " 'a',\n",
       " 'computer-controlled',\n",
       " 'robot',\n",
       " ',',\n",
       " 'or',\n",
       " 'a',\n",
       " 'software',\n",
       " 'think',\n",
       " 'intelligently',\n",
       " ',',\n",
       " 'in',\n",
       " 'the',\n",
       " 'similar',\n",
       " 'manner',\n",
       " 'the',\n",
       " 'intelligent',\n",
       " 'humans',\n",
       " 'think',\n",
       " '.',\n",
       " 'AI',\n",
       " 'is',\n",
       " 'accomplished',\n",
       " 'by',\n",
       " 'studying',\n",
       " 'how',\n",
       " 'human',\n",
       " 'brain',\n",
       " 'thinks',\n",
       " ',',\n",
       " 'and',\n",
       " 'how',\n",
       " 'humans',\n",
       " 'learn',\n",
       " ',',\n",
       " 'decide',\n",
       " ',',\n",
       " 'and',\n",
       " 'work',\n",
       " 'while',\n",
       " 'trying',\n",
       " 'to',\n",
       " 'solve',\n",
       " 'a',\n",
       " 'problem',\n",
       " ',',\n",
       " 'and',\n",
       " 'then',\n",
       " 'using',\n",
       " 'the',\n",
       " 'outcomes',\n",
       " 'of',\n",
       " 'this',\n",
       " 'study',\n",
       " 'as',\n",
       " 'a',\n",
       " 'basis',\n",
       " 'of',\n",
       " 'developing',\n",
       " 'intelligent',\n",
       " 'software',\n",
       " 'and',\n",
       " 'systems',\n",
       " '.']"
      ]
     },
     "execution_count": 16,
     "metadata": {},
     "output_type": "execute_result"
    }
   ],
   "source": [
    "AI_Tokens = word_tokenize(AI)\n",
    "AI_Tokens"
   ]
  },
  {
   "cell_type": "code",
   "execution_count": 17,
   "metadata": {},
   "outputs": [
    {
     "data": {
      "text/plain": [
       "102"
      ]
     },
     "execution_count": 17,
     "metadata": {},
     "output_type": "execute_result"
    }
   ],
   "source": [
    "len(AI_Tokens)"
   ]
  },
  {
   "cell_type": "code",
   "execution_count": 18,
   "metadata": {},
   "outputs": [],
   "source": [
    "from nltk.probability import FreqDist\n",
    "fDist = FreqDist()"
   ]
  },
  {
   "cell_type": "code",
   "execution_count": 19,
   "metadata": {},
   "outputs": [
    {
     "data": {
      "text/plain": [
       "FreqDist({',': 10, 'a': 6, 'the': 5, 'of': 5, 'and': 5, 'intelligent': 4, 'is': 3, '.': 3, 'to': 2, 'artificial': 2, ...})"
      ]
     },
     "execution_count": 19,
     "metadata": {},
     "output_type": "execute_result"
    }
   ],
   "source": [
    "for word in AI_Tokens:\n",
    "    fDist[word.lower()] += 1\n",
    "fDist"
   ]
  },
  {
   "cell_type": "code",
   "execution_count": 20,
   "metadata": {},
   "outputs": [
    {
     "data": {
      "text/plain": [
       "2"
      ]
     },
     "execution_count": 20,
     "metadata": {},
     "output_type": "execute_result"
    }
   ],
   "source": [
    "fDist['artificial']"
   ]
  },
  {
   "cell_type": "code",
   "execution_count": 21,
   "metadata": {},
   "outputs": [
    {
     "data": {
      "text/plain": [
       "60"
      ]
     },
     "execution_count": 21,
     "metadata": {},
     "output_type": "execute_result"
    }
   ],
   "source": [
    "len(fDist)"
   ]
  },
  {
   "cell_type": "code",
   "execution_count": 22,
   "metadata": {},
   "outputs": [
    {
     "data": {
      "text/plain": [
       "[(',', 10),\n",
       " ('a', 6),\n",
       " ('the', 5),\n",
       " ('of', 5),\n",
       " ('and', 5),\n",
       " ('intelligent', 4),\n",
       " ('is', 3),\n",
       " ('.', 3),\n",
       " ('to', 2),\n",
       " ('artificial', 2)]"
      ]
     },
     "execution_count": 22,
     "metadata": {},
     "output_type": "execute_result"
    }
   ],
   "source": [
    "fDist_top10 = fDist.most_common(10)\n",
    "fDist_top10"
   ]
  },
  {
   "cell_type": "code",
   "execution_count": 24,
   "metadata": {},
   "outputs": [
    {
     "data": {
      "text/plain": [
       "['According to the father of Artificial Intelligence, John McCarthy, it is “The science and engineering of making intelligent machines, especially intelligent computer programs”. Artificial Intelligence is a way of making a computer, a computer-controlled robot, or a software think intelligently, in the similar manner the intelligent humans think. AI is accomplished by studying how human brain thinks, and how humans learn, decide, and work while trying to solve a problem, and then using the outcomes of this study as a basis of developing intelligent software and systems.']"
      ]
     },
     "execution_count": 24,
     "metadata": {},
     "output_type": "execute_result"
    }
   ],
   "source": [
    "from nltk.tokenize import blankline_tokenize\n",
    "AI_blank = blankline_tokenize(AI)\n",
    "AI_blank"
   ]
  },
  {
   "cell_type": "code",
   "execution_count": 25,
   "metadata": {},
   "outputs": [
    {
     "data": {
      "text/plain": [
       "1"
      ]
     },
     "execution_count": 25,
     "metadata": {},
     "output_type": "execute_result"
    }
   ],
   "source": [
    "len(AI_blank)"
   ]
  },
  {
   "cell_type": "code",
   "execution_count": 27,
   "metadata": {},
   "outputs": [
    {
     "data": {
      "text/plain": [
       "'According to the father of Artificial Intelligence, John McCarthy, it is “The science and engineering of making intelligent machines, especially intelligent computer programs”. Artificial Intelligence is a way of making a computer, a computer-controlled robot, or a software think intelligently, in the similar manner the intelligent humans think. AI is accomplished by studying how human brain thinks, and how humans learn, decide, and work while trying to solve a problem, and then using the outcomes of this study as a basis of developing intelligent software and systems.'"
      ]
     },
     "execution_count": 27,
     "metadata": {},
     "output_type": "execute_result"
    }
   ],
   "source": [
    "AI_blank[0]"
   ]
  },
  {
   "cell_type": "code",
   "execution_count": 28,
   "metadata": {},
   "outputs": [],
   "source": [
    "from nltk.util import bigrams, trigrams, ngrams\n",
    "quote_tokens = nltk.word_tokenize(AI)"
   ]
  },
  {
   "cell_type": "code",
   "execution_count": 29,
   "metadata": {},
   "outputs": [
    {
     "data": {
      "text/plain": [
       "['According',\n",
       " 'to',\n",
       " 'the',\n",
       " 'father',\n",
       " 'of',\n",
       " 'Artificial',\n",
       " 'Intelligence',\n",
       " ',',\n",
       " 'John',\n",
       " 'McCarthy',\n",
       " ',',\n",
       " 'it',\n",
       " 'is',\n",
       " '“',\n",
       " 'The',\n",
       " 'science',\n",
       " 'and',\n",
       " 'engineering',\n",
       " 'of',\n",
       " 'making',\n",
       " 'intelligent',\n",
       " 'machines',\n",
       " ',',\n",
       " 'especially',\n",
       " 'intelligent',\n",
       " 'computer',\n",
       " 'programs',\n",
       " '”',\n",
       " '.',\n",
       " 'Artificial',\n",
       " 'Intelligence',\n",
       " 'is',\n",
       " 'a',\n",
       " 'way',\n",
       " 'of',\n",
       " 'making',\n",
       " 'a',\n",
       " 'computer',\n",
       " ',',\n",
       " 'a',\n",
       " 'computer-controlled',\n",
       " 'robot',\n",
       " ',',\n",
       " 'or',\n",
       " 'a',\n",
       " 'software',\n",
       " 'think',\n",
       " 'intelligently',\n",
       " ',',\n",
       " 'in',\n",
       " 'the',\n",
       " 'similar',\n",
       " 'manner',\n",
       " 'the',\n",
       " 'intelligent',\n",
       " 'humans',\n",
       " 'think',\n",
       " '.',\n",
       " 'AI',\n",
       " 'is',\n",
       " 'accomplished',\n",
       " 'by',\n",
       " 'studying',\n",
       " 'how',\n",
       " 'human',\n",
       " 'brain',\n",
       " 'thinks',\n",
       " ',',\n",
       " 'and',\n",
       " 'how',\n",
       " 'humans',\n",
       " 'learn',\n",
       " ',',\n",
       " 'decide',\n",
       " ',',\n",
       " 'and',\n",
       " 'work',\n",
       " 'while',\n",
       " 'trying',\n",
       " 'to',\n",
       " 'solve',\n",
       " 'a',\n",
       " 'problem',\n",
       " ',',\n",
       " 'and',\n",
       " 'then',\n",
       " 'using',\n",
       " 'the',\n",
       " 'outcomes',\n",
       " 'of',\n",
       " 'this',\n",
       " 'study',\n",
       " 'as',\n",
       " 'a',\n",
       " 'basis',\n",
       " 'of',\n",
       " 'developing',\n",
       " 'intelligent',\n",
       " 'software',\n",
       " 'and',\n",
       " 'systems',\n",
       " '.']"
      ]
     },
     "execution_count": 29,
     "metadata": {},
     "output_type": "execute_result"
    }
   ],
   "source": [
    "quote_tokens"
   ]
  },
  {
   "cell_type": "code",
   "execution_count": 30,
   "metadata": {},
   "outputs": [
    {
     "data": {
      "text/plain": [
       "[('According', 'to'),\n",
       " ('to', 'the'),\n",
       " ('the', 'father'),\n",
       " ('father', 'of'),\n",
       " ('of', 'Artificial'),\n",
       " ('Artificial', 'Intelligence'),\n",
       " ('Intelligence', ','),\n",
       " (',', 'John'),\n",
       " ('John', 'McCarthy'),\n",
       " ('McCarthy', ','),\n",
       " (',', 'it'),\n",
       " ('it', 'is'),\n",
       " ('is', '“'),\n",
       " ('“', 'The'),\n",
       " ('The', 'science'),\n",
       " ('science', 'and'),\n",
       " ('and', 'engineering'),\n",
       " ('engineering', 'of'),\n",
       " ('of', 'making'),\n",
       " ('making', 'intelligent'),\n",
       " ('intelligent', 'machines'),\n",
       " ('machines', ','),\n",
       " (',', 'especially'),\n",
       " ('especially', 'intelligent'),\n",
       " ('intelligent', 'computer'),\n",
       " ('computer', 'programs'),\n",
       " ('programs', '”'),\n",
       " ('”', '.'),\n",
       " ('.', 'Artificial'),\n",
       " ('Artificial', 'Intelligence'),\n",
       " ('Intelligence', 'is'),\n",
       " ('is', 'a'),\n",
       " ('a', 'way'),\n",
       " ('way', 'of'),\n",
       " ('of', 'making'),\n",
       " ('making', 'a'),\n",
       " ('a', 'computer'),\n",
       " ('computer', ','),\n",
       " (',', 'a'),\n",
       " ('a', 'computer-controlled'),\n",
       " ('computer-controlled', 'robot'),\n",
       " ('robot', ','),\n",
       " (',', 'or'),\n",
       " ('or', 'a'),\n",
       " ('a', 'software'),\n",
       " ('software', 'think'),\n",
       " ('think', 'intelligently'),\n",
       " ('intelligently', ','),\n",
       " (',', 'in'),\n",
       " ('in', 'the'),\n",
       " ('the', 'similar'),\n",
       " ('similar', 'manner'),\n",
       " ('manner', 'the'),\n",
       " ('the', 'intelligent'),\n",
       " ('intelligent', 'humans'),\n",
       " ('humans', 'think'),\n",
       " ('think', '.'),\n",
       " ('.', 'AI'),\n",
       " ('AI', 'is'),\n",
       " ('is', 'accomplished'),\n",
       " ('accomplished', 'by'),\n",
       " ('by', 'studying'),\n",
       " ('studying', 'how'),\n",
       " ('how', 'human'),\n",
       " ('human', 'brain'),\n",
       " ('brain', 'thinks'),\n",
       " ('thinks', ','),\n",
       " (',', 'and'),\n",
       " ('and', 'how'),\n",
       " ('how', 'humans'),\n",
       " ('humans', 'learn'),\n",
       " ('learn', ','),\n",
       " (',', 'decide'),\n",
       " ('decide', ','),\n",
       " (',', 'and'),\n",
       " ('and', 'work'),\n",
       " ('work', 'while'),\n",
       " ('while', 'trying'),\n",
       " ('trying', 'to'),\n",
       " ('to', 'solve'),\n",
       " ('solve', 'a'),\n",
       " ('a', 'problem'),\n",
       " ('problem', ','),\n",
       " (',', 'and'),\n",
       " ('and', 'then'),\n",
       " ('then', 'using'),\n",
       " ('using', 'the'),\n",
       " ('the', 'outcomes'),\n",
       " ('outcomes', 'of'),\n",
       " ('of', 'this'),\n",
       " ('this', 'study'),\n",
       " ('study', 'as'),\n",
       " ('as', 'a'),\n",
       " ('a', 'basis'),\n",
       " ('basis', 'of'),\n",
       " ('of', 'developing'),\n",
       " ('developing', 'intelligent'),\n",
       " ('intelligent', 'software'),\n",
       " ('software', 'and'),\n",
       " ('and', 'systems'),\n",
       " ('systems', '.')]"
      ]
     },
     "execution_count": 30,
     "metadata": {},
     "output_type": "execute_result"
    }
   ],
   "source": [
    "quote_bigrams = list(nltk.bigrams(quote_tokens))\n",
    "quote_bigrams"
   ]
  },
  {
   "cell_type": "code",
   "execution_count": 31,
   "metadata": {},
   "outputs": [
    {
     "data": {
      "text/plain": [
       "[('According', 'to', 'the'),\n",
       " ('to', 'the', 'father'),\n",
       " ('the', 'father', 'of'),\n",
       " ('father', 'of', 'Artificial'),\n",
       " ('of', 'Artificial', 'Intelligence'),\n",
       " ('Artificial', 'Intelligence', ','),\n",
       " ('Intelligence', ',', 'John'),\n",
       " (',', 'John', 'McCarthy'),\n",
       " ('John', 'McCarthy', ','),\n",
       " ('McCarthy', ',', 'it'),\n",
       " (',', 'it', 'is'),\n",
       " ('it', 'is', '“'),\n",
       " ('is', '“', 'The'),\n",
       " ('“', 'The', 'science'),\n",
       " ('The', 'science', 'and'),\n",
       " ('science', 'and', 'engineering'),\n",
       " ('and', 'engineering', 'of'),\n",
       " ('engineering', 'of', 'making'),\n",
       " ('of', 'making', 'intelligent'),\n",
       " ('making', 'intelligent', 'machines'),\n",
       " ('intelligent', 'machines', ','),\n",
       " ('machines', ',', 'especially'),\n",
       " (',', 'especially', 'intelligent'),\n",
       " ('especially', 'intelligent', 'computer'),\n",
       " ('intelligent', 'computer', 'programs'),\n",
       " ('computer', 'programs', '”'),\n",
       " ('programs', '”', '.'),\n",
       " ('”', '.', 'Artificial'),\n",
       " ('.', 'Artificial', 'Intelligence'),\n",
       " ('Artificial', 'Intelligence', 'is'),\n",
       " ('Intelligence', 'is', 'a'),\n",
       " ('is', 'a', 'way'),\n",
       " ('a', 'way', 'of'),\n",
       " ('way', 'of', 'making'),\n",
       " ('of', 'making', 'a'),\n",
       " ('making', 'a', 'computer'),\n",
       " ('a', 'computer', ','),\n",
       " ('computer', ',', 'a'),\n",
       " (',', 'a', 'computer-controlled'),\n",
       " ('a', 'computer-controlled', 'robot'),\n",
       " ('computer-controlled', 'robot', ','),\n",
       " ('robot', ',', 'or'),\n",
       " (',', 'or', 'a'),\n",
       " ('or', 'a', 'software'),\n",
       " ('a', 'software', 'think'),\n",
       " ('software', 'think', 'intelligently'),\n",
       " ('think', 'intelligently', ','),\n",
       " ('intelligently', ',', 'in'),\n",
       " (',', 'in', 'the'),\n",
       " ('in', 'the', 'similar'),\n",
       " ('the', 'similar', 'manner'),\n",
       " ('similar', 'manner', 'the'),\n",
       " ('manner', 'the', 'intelligent'),\n",
       " ('the', 'intelligent', 'humans'),\n",
       " ('intelligent', 'humans', 'think'),\n",
       " ('humans', 'think', '.'),\n",
       " ('think', '.', 'AI'),\n",
       " ('.', 'AI', 'is'),\n",
       " ('AI', 'is', 'accomplished'),\n",
       " ('is', 'accomplished', 'by'),\n",
       " ('accomplished', 'by', 'studying'),\n",
       " ('by', 'studying', 'how'),\n",
       " ('studying', 'how', 'human'),\n",
       " ('how', 'human', 'brain'),\n",
       " ('human', 'brain', 'thinks'),\n",
       " ('brain', 'thinks', ','),\n",
       " ('thinks', ',', 'and'),\n",
       " (',', 'and', 'how'),\n",
       " ('and', 'how', 'humans'),\n",
       " ('how', 'humans', 'learn'),\n",
       " ('humans', 'learn', ','),\n",
       " ('learn', ',', 'decide'),\n",
       " (',', 'decide', ','),\n",
       " ('decide', ',', 'and'),\n",
       " (',', 'and', 'work'),\n",
       " ('and', 'work', 'while'),\n",
       " ('work', 'while', 'trying'),\n",
       " ('while', 'trying', 'to'),\n",
       " ('trying', 'to', 'solve'),\n",
       " ('to', 'solve', 'a'),\n",
       " ('solve', 'a', 'problem'),\n",
       " ('a', 'problem', ','),\n",
       " ('problem', ',', 'and'),\n",
       " (',', 'and', 'then'),\n",
       " ('and', 'then', 'using'),\n",
       " ('then', 'using', 'the'),\n",
       " ('using', 'the', 'outcomes'),\n",
       " ('the', 'outcomes', 'of'),\n",
       " ('outcomes', 'of', 'this'),\n",
       " ('of', 'this', 'study'),\n",
       " ('this', 'study', 'as'),\n",
       " ('study', 'as', 'a'),\n",
       " ('as', 'a', 'basis'),\n",
       " ('a', 'basis', 'of'),\n",
       " ('basis', 'of', 'developing'),\n",
       " ('of', 'developing', 'intelligent'),\n",
       " ('developing', 'intelligent', 'software'),\n",
       " ('intelligent', 'software', 'and'),\n",
       " ('software', 'and', 'systems'),\n",
       " ('and', 'systems', '.')]"
      ]
     },
     "execution_count": 31,
     "metadata": {},
     "output_type": "execute_result"
    }
   ],
   "source": [
    "quote_trigrams = list(nltk.trigrams(quote_tokens))\n",
    "quote_trigrams"
   ]
  },
  {
   "cell_type": "code",
   "execution_count": 32,
   "metadata": {},
   "outputs": [
    {
     "data": {
      "text/plain": [
       "[('According', 'to', 'the', 'father', 'of'),\n",
       " ('to', 'the', 'father', 'of', 'Artificial'),\n",
       " ('the', 'father', 'of', 'Artificial', 'Intelligence'),\n",
       " ('father', 'of', 'Artificial', 'Intelligence', ','),\n",
       " ('of', 'Artificial', 'Intelligence', ',', 'John'),\n",
       " ('Artificial', 'Intelligence', ',', 'John', 'McCarthy'),\n",
       " ('Intelligence', ',', 'John', 'McCarthy', ','),\n",
       " (',', 'John', 'McCarthy', ',', 'it'),\n",
       " ('John', 'McCarthy', ',', 'it', 'is'),\n",
       " ('McCarthy', ',', 'it', 'is', '“'),\n",
       " (',', 'it', 'is', '“', 'The'),\n",
       " ('it', 'is', '“', 'The', 'science'),\n",
       " ('is', '“', 'The', 'science', 'and'),\n",
       " ('“', 'The', 'science', 'and', 'engineering'),\n",
       " ('The', 'science', 'and', 'engineering', 'of'),\n",
       " ('science', 'and', 'engineering', 'of', 'making'),\n",
       " ('and', 'engineering', 'of', 'making', 'intelligent'),\n",
       " ('engineering', 'of', 'making', 'intelligent', 'machines'),\n",
       " ('of', 'making', 'intelligent', 'machines', ','),\n",
       " ('making', 'intelligent', 'machines', ',', 'especially'),\n",
       " ('intelligent', 'machines', ',', 'especially', 'intelligent'),\n",
       " ('machines', ',', 'especially', 'intelligent', 'computer'),\n",
       " (',', 'especially', 'intelligent', 'computer', 'programs'),\n",
       " ('especially', 'intelligent', 'computer', 'programs', '”'),\n",
       " ('intelligent', 'computer', 'programs', '”', '.'),\n",
       " ('computer', 'programs', '”', '.', 'Artificial'),\n",
       " ('programs', '”', '.', 'Artificial', 'Intelligence'),\n",
       " ('”', '.', 'Artificial', 'Intelligence', 'is'),\n",
       " ('.', 'Artificial', 'Intelligence', 'is', 'a'),\n",
       " ('Artificial', 'Intelligence', 'is', 'a', 'way'),\n",
       " ('Intelligence', 'is', 'a', 'way', 'of'),\n",
       " ('is', 'a', 'way', 'of', 'making'),\n",
       " ('a', 'way', 'of', 'making', 'a'),\n",
       " ('way', 'of', 'making', 'a', 'computer'),\n",
       " ('of', 'making', 'a', 'computer', ','),\n",
       " ('making', 'a', 'computer', ',', 'a'),\n",
       " ('a', 'computer', ',', 'a', 'computer-controlled'),\n",
       " ('computer', ',', 'a', 'computer-controlled', 'robot'),\n",
       " (',', 'a', 'computer-controlled', 'robot', ','),\n",
       " ('a', 'computer-controlled', 'robot', ',', 'or'),\n",
       " ('computer-controlled', 'robot', ',', 'or', 'a'),\n",
       " ('robot', ',', 'or', 'a', 'software'),\n",
       " (',', 'or', 'a', 'software', 'think'),\n",
       " ('or', 'a', 'software', 'think', 'intelligently'),\n",
       " ('a', 'software', 'think', 'intelligently', ','),\n",
       " ('software', 'think', 'intelligently', ',', 'in'),\n",
       " ('think', 'intelligently', ',', 'in', 'the'),\n",
       " ('intelligently', ',', 'in', 'the', 'similar'),\n",
       " (',', 'in', 'the', 'similar', 'manner'),\n",
       " ('in', 'the', 'similar', 'manner', 'the'),\n",
       " ('the', 'similar', 'manner', 'the', 'intelligent'),\n",
       " ('similar', 'manner', 'the', 'intelligent', 'humans'),\n",
       " ('manner', 'the', 'intelligent', 'humans', 'think'),\n",
       " ('the', 'intelligent', 'humans', 'think', '.'),\n",
       " ('intelligent', 'humans', 'think', '.', 'AI'),\n",
       " ('humans', 'think', '.', 'AI', 'is'),\n",
       " ('think', '.', 'AI', 'is', 'accomplished'),\n",
       " ('.', 'AI', 'is', 'accomplished', 'by'),\n",
       " ('AI', 'is', 'accomplished', 'by', 'studying'),\n",
       " ('is', 'accomplished', 'by', 'studying', 'how'),\n",
       " ('accomplished', 'by', 'studying', 'how', 'human'),\n",
       " ('by', 'studying', 'how', 'human', 'brain'),\n",
       " ('studying', 'how', 'human', 'brain', 'thinks'),\n",
       " ('how', 'human', 'brain', 'thinks', ','),\n",
       " ('human', 'brain', 'thinks', ',', 'and'),\n",
       " ('brain', 'thinks', ',', 'and', 'how'),\n",
       " ('thinks', ',', 'and', 'how', 'humans'),\n",
       " (',', 'and', 'how', 'humans', 'learn'),\n",
       " ('and', 'how', 'humans', 'learn', ','),\n",
       " ('how', 'humans', 'learn', ',', 'decide'),\n",
       " ('humans', 'learn', ',', 'decide', ','),\n",
       " ('learn', ',', 'decide', ',', 'and'),\n",
       " (',', 'decide', ',', 'and', 'work'),\n",
       " ('decide', ',', 'and', 'work', 'while'),\n",
       " (',', 'and', 'work', 'while', 'trying'),\n",
       " ('and', 'work', 'while', 'trying', 'to'),\n",
       " ('work', 'while', 'trying', 'to', 'solve'),\n",
       " ('while', 'trying', 'to', 'solve', 'a'),\n",
       " ('trying', 'to', 'solve', 'a', 'problem'),\n",
       " ('to', 'solve', 'a', 'problem', ','),\n",
       " ('solve', 'a', 'problem', ',', 'and'),\n",
       " ('a', 'problem', ',', 'and', 'then'),\n",
       " ('problem', ',', 'and', 'then', 'using'),\n",
       " (',', 'and', 'then', 'using', 'the'),\n",
       " ('and', 'then', 'using', 'the', 'outcomes'),\n",
       " ('then', 'using', 'the', 'outcomes', 'of'),\n",
       " ('using', 'the', 'outcomes', 'of', 'this'),\n",
       " ('the', 'outcomes', 'of', 'this', 'study'),\n",
       " ('outcomes', 'of', 'this', 'study', 'as'),\n",
       " ('of', 'this', 'study', 'as', 'a'),\n",
       " ('this', 'study', 'as', 'a', 'basis'),\n",
       " ('study', 'as', 'a', 'basis', 'of'),\n",
       " ('as', 'a', 'basis', 'of', 'developing'),\n",
       " ('a', 'basis', 'of', 'developing', 'intelligent'),\n",
       " ('basis', 'of', 'developing', 'intelligent', 'software'),\n",
       " ('of', 'developing', 'intelligent', 'software', 'and'),\n",
       " ('developing', 'intelligent', 'software', 'and', 'systems'),\n",
       " ('intelligent', 'software', 'and', 'systems', '.')]"
      ]
     },
     "execution_count": 32,
     "metadata": {},
     "output_type": "execute_result"
    }
   ],
   "source": [
    "quote_ngrams = list(nltk.ngrams(quote_tokens, 5))\n",
    "quote_ngrams"
   ]
  },
  {
   "cell_type": "code",
   "execution_count": 34,
   "metadata": {},
   "outputs": [
    {
     "data": {
      "text/plain": [
       "'affect'"
      ]
     },
     "execution_count": 34,
     "metadata": {},
     "output_type": "execute_result"
    }
   ],
   "source": [
    "from nltk.stem import PorterStemmer\n",
    "stemData = PorterStemmer()\n",
    "stemData.stem('Affectation')"
   ]
  },
  {
   "cell_type": "code",
   "execution_count": 35,
   "metadata": {},
   "outputs": [
    {
     "name": "stdout",
     "output_type": "stream",
     "text": [
      "affect\n",
      "affect\n",
      "affect\n",
      "affect\n",
      "affect\n",
      "affect\n"
     ]
    }
   ],
   "source": [
    "words_to_stem = ['Affectation', 'Affects', 'Affections', 'Affected', 'Affection', 'Affecting']\n",
    "for word in words_to_stem:\n",
    "    print(stemData.stem(word))"
   ]
  },
  {
   "cell_type": "code",
   "execution_count": 36,
   "metadata": {},
   "outputs": [
    {
     "data": {
      "text/plain": [
       "'affect'"
      ]
     },
     "execution_count": 36,
     "metadata": {},
     "output_type": "execute_result"
    }
   ],
   "source": [
    "from nltk.stem import LancasterStemmer\n",
    "lan_StemData = LancasterStemmer()\n",
    "lan_StemData.stem('Affectation')"
   ]
  },
  {
   "cell_type": "code",
   "execution_count": 37,
   "metadata": {},
   "outputs": [
    {
     "name": "stdout",
     "output_type": "stream",
     "text": [
      "affect\n",
      "affect\n",
      "affect\n",
      "affect\n",
      "affect\n",
      "affect\n"
     ]
    }
   ],
   "source": [
    "for word in words_to_stem:\n",
    "    print(lan_StemData.stem(word))"
   ]
  },
  {
   "cell_type": "code",
   "execution_count": 38,
   "metadata": {},
   "outputs": [
    {
     "name": "stdout",
     "output_type": "stream",
     "text": [
      "giv\n",
      "giv\n",
      "giv\n",
      "gav\n"
     ]
    }
   ],
   "source": [
    "lan_words_to_stem = ['give', 'given', 'giving', 'gave']\n",
    "for word in lan_words_to_stem:\n",
    "    print(lan_StemData.stem(word))"
   ]
  },
  {
   "cell_type": "code",
   "execution_count": 39,
   "metadata": {},
   "outputs": [],
   "source": [
    "from nltk.stem import SnowballStemmer\n",
    "sbs = SnowballStemmer('english')"
   ]
  },
  {
   "cell_type": "code",
   "execution_count": 40,
   "metadata": {},
   "outputs": [
    {
     "name": "stdout",
     "output_type": "stream",
     "text": [
      "give\n",
      "given\n",
      "give\n",
      "gave\n"
     ]
    }
   ],
   "source": [
    "for word in lan_words_to_stem:\n",
    "    print(sbs.stem(word))"
   ]
  },
  {
   "cell_type": "code",
   "execution_count": 41,
   "metadata": {},
   "outputs": [],
   "source": [
    "from nltk.stem import wordnet\n",
    "from nltk.stem import WordNetLemmatizer\n",
    "word_lem = WordNetLemmatizer()"
   ]
  },
  {
   "cell_type": "code",
   "execution_count": 43,
   "metadata": {},
   "outputs": [
    {
     "data": {
      "text/plain": [
       "'corpus'"
      ]
     },
     "execution_count": 43,
     "metadata": {},
     "output_type": "execute_result"
    }
   ],
   "source": [
    "word_lem.lemmatize('corpora')"
   ]
  },
  {
   "cell_type": "code",
   "execution_count": 44,
   "metadata": {},
   "outputs": [
    {
     "name": "stdout",
     "output_type": "stream",
     "text": [
      "give\n",
      "given\n",
      "give\n",
      "gave\n"
     ]
    }
   ],
   "source": [
    "for word in lan_words_to_stem:\n",
    "    print(sbs.stem(word))"
   ]
  },
  {
   "cell_type": "code",
   "execution_count": 46,
   "metadata": {},
   "outputs": [
    {
     "data": {
      "text/plain": [
       "['i',\n",
       " 'me',\n",
       " 'my',\n",
       " 'myself',\n",
       " 'we',\n",
       " 'our',\n",
       " 'ours',\n",
       " 'ourselves',\n",
       " 'you',\n",
       " \"you're\",\n",
       " \"you've\",\n",
       " \"you'll\",\n",
       " \"you'd\",\n",
       " 'your',\n",
       " 'yours',\n",
       " 'yourself',\n",
       " 'yourselves',\n",
       " 'he',\n",
       " 'him',\n",
       " 'his',\n",
       " 'himself',\n",
       " 'she',\n",
       " \"she's\",\n",
       " 'her',\n",
       " 'hers',\n",
       " 'herself',\n",
       " 'it',\n",
       " \"it's\",\n",
       " 'its',\n",
       " 'itself',\n",
       " 'they',\n",
       " 'them',\n",
       " 'their',\n",
       " 'theirs',\n",
       " 'themselves',\n",
       " 'what',\n",
       " 'which',\n",
       " 'who',\n",
       " 'whom',\n",
       " 'this',\n",
       " 'that',\n",
       " \"that'll\",\n",
       " 'these',\n",
       " 'those',\n",
       " 'am',\n",
       " 'is',\n",
       " 'are',\n",
       " 'was',\n",
       " 'were',\n",
       " 'be',\n",
       " 'been',\n",
       " 'being',\n",
       " 'have',\n",
       " 'has',\n",
       " 'had',\n",
       " 'having',\n",
       " 'do',\n",
       " 'does',\n",
       " 'did',\n",
       " 'doing',\n",
       " 'a',\n",
       " 'an',\n",
       " 'the',\n",
       " 'and',\n",
       " 'but',\n",
       " 'if',\n",
       " 'or',\n",
       " 'because',\n",
       " 'as',\n",
       " 'until',\n",
       " 'while',\n",
       " 'of',\n",
       " 'at',\n",
       " 'by',\n",
       " 'for',\n",
       " 'with',\n",
       " 'about',\n",
       " 'against',\n",
       " 'between',\n",
       " 'into',\n",
       " 'through',\n",
       " 'during',\n",
       " 'before',\n",
       " 'after',\n",
       " 'above',\n",
       " 'below',\n",
       " 'to',\n",
       " 'from',\n",
       " 'up',\n",
       " 'down',\n",
       " 'in',\n",
       " 'out',\n",
       " 'on',\n",
       " 'off',\n",
       " 'over',\n",
       " 'under',\n",
       " 'again',\n",
       " 'further',\n",
       " 'then',\n",
       " 'once',\n",
       " 'here',\n",
       " 'there',\n",
       " 'when',\n",
       " 'where',\n",
       " 'why',\n",
       " 'how',\n",
       " 'all',\n",
       " 'any',\n",
       " 'both',\n",
       " 'each',\n",
       " 'few',\n",
       " 'more',\n",
       " 'most',\n",
       " 'other',\n",
       " 'some',\n",
       " 'such',\n",
       " 'no',\n",
       " 'nor',\n",
       " 'not',\n",
       " 'only',\n",
       " 'own',\n",
       " 'same',\n",
       " 'so',\n",
       " 'than',\n",
       " 'too',\n",
       " 'very',\n",
       " 's',\n",
       " 't',\n",
       " 'can',\n",
       " 'will',\n",
       " 'just',\n",
       " 'don',\n",
       " \"don't\",\n",
       " 'should',\n",
       " \"should've\",\n",
       " 'now',\n",
       " 'd',\n",
       " 'll',\n",
       " 'm',\n",
       " 'o',\n",
       " 're',\n",
       " 've',\n",
       " 'y',\n",
       " 'ain',\n",
       " 'aren',\n",
       " \"aren't\",\n",
       " 'couldn',\n",
       " \"couldn't\",\n",
       " 'didn',\n",
       " \"didn't\",\n",
       " 'doesn',\n",
       " \"doesn't\",\n",
       " 'hadn',\n",
       " \"hadn't\",\n",
       " 'hasn',\n",
       " \"hasn't\",\n",
       " 'haven',\n",
       " \"haven't\",\n",
       " 'isn',\n",
       " \"isn't\",\n",
       " 'ma',\n",
       " 'mightn',\n",
       " \"mightn't\",\n",
       " 'mustn',\n",
       " \"mustn't\",\n",
       " 'needn',\n",
       " \"needn't\",\n",
       " 'shan',\n",
       " \"shan't\",\n",
       " 'shouldn',\n",
       " \"shouldn't\",\n",
       " 'wasn',\n",
       " \"wasn't\",\n",
       " 'weren',\n",
       " \"weren't\",\n",
       " 'won',\n",
       " \"won't\",\n",
       " 'wouldn',\n",
       " \"wouldn't\"]"
      ]
     },
     "execution_count": 46,
     "metadata": {},
     "output_type": "execute_result"
    }
   ],
   "source": [
    "from nltk.corpus import stopwords\n",
    "stopwords.words('english')"
   ]
  },
  {
   "cell_type": "code",
   "execution_count": 47,
   "metadata": {},
   "outputs": [
    {
     "data": {
      "text/plain": [
       "179"
      ]
     },
     "execution_count": 47,
     "metadata": {},
     "output_type": "execute_result"
    }
   ],
   "source": [
    "len(stopwords.words('english'))"
   ]
  },
  {
   "cell_type": "code",
   "execution_count": 49,
   "metadata": {},
   "outputs": [],
   "source": [
    "sent = 'Timothy is natural when it comes to drawing'\n",
    "sent_token = word_tokenize(sent)"
   ]
  },
  {
   "cell_type": "code",
   "execution_count": 50,
   "metadata": {},
   "outputs": [
    {
     "name": "stdout",
     "output_type": "stream",
     "text": [
      "[('Timothy', 'NN')]\n",
      "[('is', 'VBZ')]\n",
      "[('natural', 'JJ')]\n",
      "[('when', 'WRB')]\n",
      "[('it', 'PRP')]\n",
      "[('comes', 'VBZ')]\n",
      "[('to', 'TO')]\n",
      "[('drawing', 'VBG')]\n"
     ]
    }
   ],
   "source": [
    "for token in sent_token:\n",
    "    print(nltk.pos_tag([token]))"
   ]
  },
  {
   "cell_type": "code",
   "execution_count": 52,
   "metadata": {},
   "outputs": [],
   "source": [
    "sent2 = 'John is eating a delicious cake'\n",
    "sent_token2 = word_tokenize(sent2)"
   ]
  },
  {
   "cell_type": "code",
   "execution_count": 53,
   "metadata": {},
   "outputs": [
    {
     "name": "stdout",
     "output_type": "stream",
     "text": [
      "[('John', 'NNP')]\n",
      "[('is', 'VBZ')]\n",
      "[('eating', 'VBG')]\n",
      "[('a', 'DT')]\n",
      "[('delicious', 'JJ')]\n",
      "[('cake', 'NN')]\n"
     ]
    }
   ],
   "source": [
    "for token in sent_token2:\n",
    "    print(nltk.pos_tag([token]))"
   ]
  },
  {
   "cell_type": "code",
   "execution_count": 58,
   "metadata": {},
   "outputs": [],
   "source": [
    "from nltk.chunk import ne_chunk\n",
    "NE_Sent = \"The US President stays in the WHITE HOUSE\""
   ]
  },
  {
   "cell_type": "code",
   "execution_count": 56,
   "metadata": {},
   "outputs": [],
   "source": [
    "NE_tokens = word_tokenize(NE_Sent)\n",
    "NE_tags = nltk.pos_tag(NE_tokens)"
   ]
  },
  {
   "cell_type": "code",
   "execution_count": 59,
   "metadata": {},
   "outputs": [
    {
     "name": "stdout",
     "output_type": "stream",
     "text": [
      "(S\n",
      "  The/DT\n",
      "  (ORGANIZATION US/NNP)\n",
      "  President/NNP\n",
      "  stays/VBZ\n",
      "  in/IN\n",
      "  the/DT\n",
      "  (FACILITY WHITE/NNP HOUSE/NNP))\n"
     ]
    }
   ],
   "source": [
    "NE_NER = ne_chunk(NE_tags)\n",
    "print(NE_NER)"
   ]
  },
  {
   "cell_type": "code",
   "execution_count": 60,
   "metadata": {},
   "outputs": [
    {
     "data": {
      "text/plain": [
       "[('The', 'DT'),\n",
       " ('big', 'JJ'),\n",
       " ('cat', 'NN'),\n",
       " ('eat', 'NN'),\n",
       " ('little', 'JJ'),\n",
       " ('mouse', 'NN'),\n",
       " ('who', 'WP'),\n",
       " ('was', 'VBD'),\n",
       " ('after', 'IN'),\n",
       " ('the', 'DT'),\n",
       " ('fresh', 'JJ'),\n",
       " ('cheese', 'NN')]"
      ]
     },
     "execution_count": 60,
     "metadata": {},
     "output_type": "execute_result"
    }
   ],
   "source": [
    "new = 'The big cat eat little mouse who was after the fresh cheese'\n",
    "new_tokens = nltk.pos_tag(word_tokenize(new))\n",
    "new_tokens"
   ]
  },
  {
   "cell_type": "code",
   "execution_count": null,
   "metadata": {},
   "outputs": [],
   "source": []
  }
 ],
 "metadata": {
  "kernelspec": {
   "display_name": "Python 3",
   "language": "python",
   "name": "python3"
  },
  "language_info": {
   "codemirror_mode": {
    "name": "ipython",
    "version": 3
   },
   "file_extension": ".py",
   "mimetype": "text/x-python",
   "name": "python",
   "nbconvert_exporter": "python",
   "pygments_lexer": "ipython3",
   "version": "3.6.8"
  }
 },
 "nbformat": 4,
 "nbformat_minor": 2
}
